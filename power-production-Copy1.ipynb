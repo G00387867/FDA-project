{
 "cells": [
  {
   "cell_type": "markdown",
   "metadata": {},
   "source": [
    "# Project 2020 - Fundamentals of Data Analysis"
   ]
  },
  {
   "cell_type": "markdown",
   "metadata": {},
   "source": [
    "---"
   ]
  },
  {
   "cell_type": "markdown",
   "metadata": {},
   "source": [
    "### Project requirements:\n",
    "\n",
    "Perform and explain simple linear regression using Python on the **powerproduction** dataset.\n",
    "The goal is to;\n",
    "- accurately predict wind turbine power output from wind speed values using the data set as a basis.\n",
    " 1. using simple linear regression on the data set.\n",
    " 2. In that notebook, an explanation of your regression and an analysis of its accuracy.\n",
    "\n",
    "#### Methodology:\n",
    "\n",
    "* Importing the data set\n",
    "* Explore the data set\n",
    "* Perform Analysis\n",
    "\n",
    "\n",
    "To enhance your submission, you might consider comparing simple linear regression to\n",
    "other types of regression on this data set. Rest assured, all the above concepts will be\n",
    "explored in lecture videos and other materials in the coming semester."
   ]
  },
  {
   "cell_type": "markdown",
   "metadata": {},
   "source": [
    "_The data set is split into **train** and **test** sets, with **302** rows used for **model training** and **149** for **model evaluation**._"
   ]
  },
  {
   "cell_type": "markdown",
   "metadata": {},
   "source": [
    "### _Automatic Outlier Detection_\n",
    "\n",
    "The scikit-learn library provides a number of built-in automatic methods for identifying outliers in data. Each method will be defined, then fit on the training dataset. The fit model will then predict which examples in the training dataset are outliers and which are not (so-called inliers). The outliers will then be removed from the training dataset, then the model will be fit on the remaining examples and evaluated on the entire test dataset.\n",
    "\n",
    "It would be invalid to fit the outlier detection method on the entire training dataset as this would result in data leakage. That is, the model would have access to data (or information about the data) in the test set not used to train the model. This may result in an optimistic estimate of model performance.\n",
    "\n",
    "One approach might be to return a “None” indicating that the model is unable to make a prediction on those outlier cases. This might be an interesting extension to explore that may be appropriate for your project [3].\n"
   ]
  },
  {
   "cell_type": "markdown",
   "metadata": {},
   "source": [
    "#### _Isolation Forest_\n",
    "\n",
    "Isolation Forest, or iForest for short, is a tree-based anomaly detection algorithm.\n",
    "\n",
    "It is based on modeling the normal data in such a way as to isolate anomalies that are both few in number and different in the feature space. The scikit-learn library provides an implementation of Isolation Forest in the IsolationForest class.\n",
    "\n",
    "The most important hyperparameter in the model is the “contamination” argument, which is used to help estimate the number of outliers in the dataset. This is a value between `0.0` and `0.5` and by default is set to `0.1` [3].\n",
    "\n"
   ]
  },
  {
   "cell_type": "markdown",
   "metadata": {},
   "source": [
    "### _Baseline Model Performance_"
   ]
  },
  {
   "cell_type": "markdown",
   "metadata": {},
   "source": [
    "It is a regression predictive modeling problem, meaning that we will be predicting a numeric value. All input variables are also numeric.\n",
    "In this case, we will fit a linear regression algorithm and evaluate model performance by training the model on the test dataset and making a prediction on the test data and evaluate the predictions using the mean absolute error (MAE).\n",
    "\n"
   ]
  },
  {
   "cell_type": "code",
   "execution_count": 1,
   "metadata": {},
   "outputs": [],
   "source": [
    "# Getting plotts inline\n",
    "\n",
    "%matplotlib inline\n",
    "\n",
    "# importing required packages and libraries\n",
    "# numerical library\n",
    "import numpy as np\n",
    "rng = np.random.default_rng()\n",
    "# data frames\n",
    "import pandas as pd\n",
    "# plotting libraries\n",
    "import matplotlib.pyplot as plt\n",
    "import seaborn as sns\n",
    "# Importing Libraries.\n",
    "import numpy as np\n",
    "from sklearn.linear_model import LinearRegression\n",
    "from sklearn.preprocessing import PolynomialFeatures\n",
    "\n",
    "# Better sized plots.\n",
    "plt.rcParams['figure.figsize'] = (12, 8)\n",
    "# Nicer colours and styles for plots.\n",
    "# plt.style.use(\"ggplot\")\n",
    "plt.style.use(\"fivethirtyeight\")"
   ]
  },
  {
   "cell_type": "code",
   "execution_count": 28,
   "metadata": {},
   "outputs": [
    {
     "name": "stdout",
     "output_type": "stream",
     "text": [
      "(451, 1) (451,)\n"
     ]
    }
   ],
   "source": [
    "# Assigning variables.\n",
    "url = \"https://raw.githubusercontent.com/ianmcloughlin/2020A-machstat-project/master/dataset/powerproduction.csv\"\n",
    "df = pd.read_csv(url)\n",
    "df = df[df != 0].dropna()\n",
    "# retrieve the array\n",
    "data = df.values\n",
    "# split into input and output elements\n",
    "speed, power = data[:, :-1], data[:, -1]\n",
    "# summarize the shape of the dataset\n",
    "print(speed.shape, power.shape)\n",
    "x = speed.reshape(-1, 1)\n",
    "y = power"
   ]
  },
  {
   "cell_type": "code",
   "execution_count": 29,
   "metadata": {},
   "outputs": [],
   "source": [
    "# transformer refers to an instance of PolynomialFeatures which you can use to transform the input x (speed).\n",
    "transformer = PolynomialFeatures(degree=4, include_bias=False)"
   ]
  },
  {
   "cell_type": "code",
   "execution_count": 30,
   "metadata": {},
   "outputs": [
    {
     "data": {
      "text/plain": [
       "PolynomialFeatures(degree=4, include_bias=False)"
      ]
     },
     "execution_count": 30,
     "metadata": {},
     "output_type": "execute_result"
    }
   ],
   "source": [
    "# Fitting transformer with x (speed).\n",
    "transformer.fit(x)"
   ]
  },
  {
   "cell_type": "code",
   "execution_count": 31,
   "metadata": {},
   "outputs": [],
   "source": [
    "# Create a new and modified input.\n",
    "x_ = transformer.transform(x)"
   ]
  },
  {
   "cell_type": "code",
   "execution_count": 32,
   "metadata": {},
   "outputs": [],
   "source": [
    "# summarizing the earlier 3 steps with one line of code.\n",
    "x_ = PolynomialFeatures(degree= 4, include_bias=False).fit_transform(x)"
   ]
  },
  {
   "cell_type": "code",
   "execution_count": 33,
   "metadata": {},
   "outputs": [],
   "source": [
    "# create and fit the model.\n",
    "m = LinearRegression().fit(x_, y)"
   ]
  },
  {
   "cell_type": "code",
   "execution_count": 34,
   "metadata": {},
   "outputs": [
    {
     "name": "stdout",
     "output_type": "stream",
     "text": [
      "coefficient of determination: 0.9790166581245356\n",
      "intercept: 13.687463329439431\n",
      "coefficients: [-7.72667030e+00  1.05079599e+00 -9.03410607e-03 -6.48277387e-04]\n",
      "p : [13.687463329439431, array([-7.72667030e+00,  1.05079599e+00, -9.03410607e-03, -6.48277387e-04])]\n"
     ]
    }
   ],
   "source": [
    "# Getting the R-square\n",
    "r_sq = m.score(x_, y)\n",
    "print('coefficient of determination:', r_sq)\n",
    "\n",
    "print('intercept:', m.intercept_)\n",
    "\n",
    "print('coefficients:', m.coef_)\n",
    "\n",
    "p = [m.intercept_, m.coef_]\n",
    "\n",
    "print ('p :', p)"
   ]
  },
  {
   "cell_type": "code",
   "execution_count": 35,
   "metadata": {},
   "outputs": [],
   "source": [
    "# Getting very similar results with different transformation arguments.\n",
    "x_ = PolynomialFeatures(degree= 4, include_bias=True).fit_transform(x)"
   ]
  },
  {
   "cell_type": "code",
   "execution_count": 36,
   "metadata": {},
   "outputs": [
    {
     "name": "stdout",
     "output_type": "stream",
     "text": [
      "[[1.00000000e+00 3.25000000e-01 1.05625000e-01 3.43281250e-02\n",
      "  1.11566406e-02]\n",
      " [1.00000000e+00 4.00000000e-01 1.60000000e-01 6.40000000e-02\n",
      "  2.56000000e-02]\n",
      " [1.00000000e+00 4.50000000e-01 2.02500000e-01 9.11250000e-02\n",
      "  4.10062500e-02]\n",
      " ...\n",
      " [1.00000000e+00 2.43490000e+01 5.92873801e+02 1.44358842e+04\n",
      "  3.51499344e+05]\n",
      " [1.00000000e+00 2.43740000e+01 5.94091876e+02 1.44803954e+04\n",
      "  3.52945157e+05]\n",
      " [1.00000000e+00 2.43990000e+01 5.95311201e+02 1.45249980e+04\n",
      "  3.54395426e+05]]\n"
     ]
    }
   ],
   "source": [
    "print(x_)"
   ]
  },
  {
   "cell_type": "code",
   "execution_count": 37,
   "metadata": {},
   "outputs": [],
   "source": [
    "model = LinearRegression(fit_intercept=False).fit(x_, y)"
   ]
  },
  {
   "cell_type": "code",
   "execution_count": 38,
   "metadata": {},
   "outputs": [
    {
     "name": "stdout",
     "output_type": "stream",
     "text": [
      "coefficient of determination: 0.9790166581245356\n",
      "intercept: 0.0\n",
      "coefficients: [ 1.36874633e+01 -7.72667030e+00  1.05079599e+00 -9.03410607e-03\n",
      " -6.48277387e-04]\n"
     ]
    }
   ],
   "source": [
    "# Getting similar results to the previous case.\n",
    "r_sq = model.score(x_, y)\n",
    "print('coefficient of determination:', r_sq)\n",
    "\n",
    "print('intercept:', model.intercept_)\n",
    "\n",
    "print('coefficients:', model.coef_)\n"
   ]
  },
  {
   "cell_type": "code",
   "execution_count": 39,
   "metadata": {
    "scrolled": true
   },
   "outputs": [
    {
     "name": "stdout",
     "output_type": "stream",
     "text": [
      "predicted response: [ 1.12869685e+01  1.07643278e+01  1.04223981e+01  1.00789755e+01\n",
      "  9.91260041e+00  9.74751969e+00  9.58373232e+00  9.26003370e+00\n",
      "  8.94149660e+00  8.78416111e+00  8.16768248e+00  8.01677351e+00\n",
      "  7.86714674e+00  7.42594903e+00  7.28144046e+00  7.13820877e+00\n",
      "  6.99625288e+00  6.71616414e+00  6.44116546e+00  6.17124798e+00\n",
      "  5.64662066e+00  5.51862545e+00  4.89756137e+00  4.77712274e+00\n",
      "  4.41869282e+00  3.74517708e+00  3.53063911e+00  2.81880455e+00\n",
      "  2.72205534e+00  1.73879933e+00  1.57589560e+00  1.04389799e+00\n",
      "  8.33988376e-01  6.32294392e-01  5.68364230e-01  2.66591450e-01\n",
      " -5.52165513e-03 -5.64017601e-02 -2.48164992e-01 -3.37014054e-01\n",
      " -3.79685928e-01 -4.21191470e-01 -4.61532265e-01 -6.45820979e-01\n",
      " -8.55357198e-01 -8.80703387e-01 -9.04907672e-01 -9.91101971e-01\n",
      " -1.04313289e+00 -1.05821774e+00 -1.09672013e+00 -1.10730932e+00\n",
      " -1.15018495e+00 -1.15186723e+00 -1.15244418e+00 -1.15191760e+00\n",
      " -1.10819664e+00 -1.04548355e+00 -1.02970054e+00 -8.63875601e-01\n",
      " -8.38437729e-01 -7.84389036e-01 -6.30850201e-01 -5.62109441e-01\n",
      " -3.72084679e-01 -3.30980560e-01 -2.88848137e-01 -2.45689458e-01\n",
      " -1.56301558e-01 -6.28333697e-02  3.46985004e-02  1.36277348e-01\n",
      "  1.88579142e-01  2.96196925e-01  3.51508676e-01  4.07819499e-01\n",
      "  7.04284811e-01  7.66545050e-01  8.96604814e-01  1.23258096e+00\n",
      "  1.37376678e+00  1.44580698e+00  1.51880907e+00  1.82039144e+00\n",
      "  2.05656778e+00  2.21874156e+00  2.30123846e+00  2.38467229e+00\n",
      "  2.46904077e+00  2.64057239e+00  2.72773090e+00  2.81581477e+00\n",
      "  2.90482167e+00  2.99474926e+00  3.17735710e+00  3.64982372e+00\n",
      "  3.84513926e+00  4.04404259e+00  4.14483365e+00  4.66631286e+00\n",
      "  4.98731886e+00  5.20567714e+00  5.31615514e+00  5.65275472e+00\n",
      "  6.34897344e+00  6.70845617e+00  6.82995172e+00  7.19940636e+00\n",
      "  7.32420531e+00  7.44982366e+00  7.57625880e+00  7.70350813e+00\n",
      "  7.96043895e+00  8.35187622e+00  8.48395574e+00  9.02563158e+00\n",
      "  9.29854066e+00  9.57456856e+00  9.71374535e+00  9.99441109e+00\n",
      "  1.01358946e+01  1.02781417e+01  1.07094365e+01  1.08547102e+01\n",
      "  1.10007337e+01  1.11475042e+01  1.12950191e+01  1.14432755e+01\n",
      "  1.20436609e+01  1.23482304e+01  1.26556879e+01  1.29660108e+01\n",
      "  1.31222397e+01  1.37542055e+01  1.43973142e+01  1.47229897e+01\n",
      "  1.52232114e+01  1.58908221e+01  1.60593784e+01  1.62285904e+01\n",
      "  1.67401304e+01  1.72574639e+01  1.74311820e+01  1.76055318e+01\n",
      "  1.81323420e+01  1.99281974e+01  2.02945368e+01  2.06632083e+01\n",
      "  2.15949262e+01  2.23580197e+01  2.25482943e+01  2.29304762e+01\n",
      "  2.38953058e+01  2.44805042e+01  2.46766011e+01  2.48732080e+01\n",
      "  2.50703217e+01  2.54660564e+01  2.56646708e+01  2.58637791e+01\n",
      "  2.62634637e+01  2.66650839e+01  2.68666117e+01  2.70686134e+01\n",
      "  2.72710859e+01  2.74740259e+01  2.76774298e+01  2.78812946e+01\n",
      "  2.80856168e+01  2.82903930e+01  2.89074129e+01  2.91139720e+01\n",
      "  2.99445477e+01  3.05803315e+01  3.14226946e+01  3.18462881e+01\n",
      "  3.20586759e+01  3.22714530e+01  3.33410577e+01  3.39872706e+01\n",
      "  3.42033956e+01  3.44198751e+01  3.46367056e+01  3.52892676e+01\n",
      "  3.57259990e+01  3.61640493e+01  3.68235352e+01  3.70439923e+01\n",
      "  3.72647576e+01  3.74858277e+01  3.77071987e+01  3.97214497e+01\n",
      "  4.01700953e+01  4.03948057e+01  4.08449832e+01  4.12961450e+01\n",
      "  4.15220857e+01  4.19746684e+01  4.26552394e+01  4.28825339e+01\n",
      "  4.31100410e+01  4.35656778e+01  4.47082252e+01  4.49372968e+01\n",
      "  4.51665468e+01  4.56255672e+01  4.58553298e+01  4.63153409e+01\n",
      "  4.65455816e+01  4.67759741e+01  4.70065143e+01  4.74680228e+01\n",
      "  4.76989833e+01  4.81705490e+01  4.84018998e+01  4.86333710e+01\n",
      "  4.88649589e+01  4.93284689e+01  4.97923983e+01  5.00245104e+01\n",
      "  5.04890099e+01  5.11863879e+01  5.14189991e+01  5.21172323e+01\n",
      "  5.23500966e+01  5.28159812e+01  5.49142385e+01  5.53807198e+01\n",
      "  5.56139637e+01  5.60804372e+01  5.65468647e+01  5.74887729e+01\n",
      "  5.77218372e+01  5.91192263e+01  5.93519194e+01  6.12106018e+01\n",
      "  6.14425161e+01  6.16743228e+01  6.19060175e+01  6.21375961e+01\n",
      "  6.30626639e+01  6.35243899e+01  6.42158727e+01  6.44460547e+01\n",
      "  6.49059245e+01  6.51356037e+01  6.53651065e+01  6.62812680e+01\n",
      "  6.67473077e+01  6.72033734e+01  6.74310847e+01  6.76585759e+01\n",
      "  6.83396845e+01  6.85662510e+01  6.87925752e+01  6.94700501e+01\n",
      "  6.96953609e+01  7.14879515e+01  7.19331856e+01  7.21553408e+01\n",
      "  7.23771822e+01  7.25987051e+01  7.28199050e+01  7.30407775e+01\n",
      "  7.32613178e+01  7.37013842e+01  7.39209010e+01  7.45773313e+01\n",
      "  7.50131388e+01  7.52304850e+01  7.56726944e+01  7.61046686e+01\n",
      "  7.67496440e+01  7.71775828e+01  7.73909248e+01  7.76038423e+01\n",
      "  7.80283850e+01  7.88721704e+01  7.95002236e+01  7.99165759e+01\n",
      "  8.01240329e+01  8.03310041e+01  8.11539361e+01  8.15623635e+01\n",
      "  8.19687142e+01  8.25742622e+01  8.31749210e+01  8.33740316e+01\n",
      "  8.41726606e+01  8.43688862e+01  8.45645248e+01  8.49540210e+01\n",
      "  8.51478688e+01  8.53411100e+01  8.59171444e+01  8.62980438e+01\n",
      "  8.68646088e+01  8.70521683e+01  8.72390717e+01  8.74253142e+01\n",
      "  8.76108906e+01  8.79800257e+01  8.83464370e+01  8.85286087e+01\n",
      "  8.94289276e+01  8.97840427e+01  8.99605060e+01  9.01362330e+01\n",
      "  9.04854580e+01  9.06589458e+01  9.08316771e+01  9.10036466e+01\n",
      "  9.11816816e+01  9.13520816e+01  9.15217045e+01  9.16905450e+01\n",
      "  9.18585982e+01  9.20258588e+01  9.30124918e+01  9.31740607e+01\n",
      "  9.33347958e+01  9.36537441e+01  9.45900385e+01  9.47430358e+01\n",
      "  9.48951474e+01  9.56422336e+01  9.59346832e+01  9.62234210e+01\n",
      "  9.65084045e+01  9.66494752e+01  9.67895914e+01  9.73458344e+01\n",
      "  9.74810590e+01  9.77485425e+01  9.78807909e+01  9.82714975e+01\n",
      "  9.85268829e+01  9.86530336e+01  9.87781492e+01  9.90252533e+01\n",
      "  9.91472310e+01  9.93880103e+01  9.95068011e+01  9.97411578e+01\n",
      "  9.99711781e+01  1.00084548e+02  1.00196818e+02  1.00526970e+02\n",
      "  1.00634783e+02  1.00951432e+02  1.01649960e+02  1.02026842e+02\n",
      "  1.02117104e+02  1.02206155e+02  1.02293989e+02  1.02380600e+02\n",
      "  1.02465983e+02  1.02550132e+02  1.02633040e+02  1.02795116e+02\n",
      "  1.02874272e+02  1.02952166e+02  1.03028792e+02  1.03178216e+02\n",
      "  1.03322501e+02  1.03392702e+02  1.03595469e+02  1.03786364e+02\n",
      "  1.03847330e+02  1.03906955e+02  1.04022154e+02  1.04131916e+02\n",
      "  1.04184743e+02  1.04236194e+02  1.04286262e+02  1.04515664e+02\n",
      "  1.04599123e+02  1.04675173e+02  1.04778426e+02  1.04809935e+02\n",
      "  1.04921267e+02  1.04945396e+02  1.05008794e+02  1.05103545e+02\n",
      "  1.05110917e+02  1.05120976e+02  1.05097893e+02  1.05062689e+02\n",
      "  1.05047687e+02  1.05031043e+02  1.05012749e+02  1.04992800e+02\n",
      "  1.04866845e+02  1.04804993e+02  1.04736325e+02  1.04578340e+02\n",
      "  1.04534507e+02  1.04392498e+02  1.04178403e+02  1.04060637e+02\n",
      "  1.03870451e+02  1.03663870e+02  1.03591338e+02  1.03516959e+02\n",
      "  1.03440727e+02  1.03362636e+02  1.03282679e+02  1.03031555e+02\n",
      "  1.02854697e+02  1.02763416e+02  1.02666459e+02  1.02274170e+02\n",
      "  1.02066402e+02  1.01850819e+02  1.01627368e+02  1.01512676e+02\n",
      "  1.01395999e+02  1.01156661e+02  1.00390319e+02  9.98386366e+01\n",
      "  9.92538423e+01  9.91024214e+01  9.89488987e+01  9.87932675e+01\n",
      "  9.86355214e+01  9.84756538e+01  9.83136583e+01  9.79832574e+01\n",
      "  9.76442663e+01  9.74715331e+01  9.71124302e+01  9.69330883e+01\n",
      "  9.67515593e+01  9.65678365e+01  9.60034398e+01  9.58108762e+01\n",
      "  9.52197982e+01  9.50182878e+01  9.48145242e+01  9.44002106e+01\n",
      "  9.39768043e+01  9.37616747e+01  9.33245293e+01  9.31025001e+01\n",
      "  9.19575214e+01  9.17215122e+01  9.12424265e+01  9.07538729e+01\n",
      "  9.02557973e+01  9.00031719e+01  8.97481458e+01]\n"
     ]
    }
   ],
   "source": [
    "# predict the response (power)\n",
    "y_pred = model.predict(x_)\n",
    "print('predicted response:', y_pred)"
   ]
  },
  {
   "cell_type": "code",
   "execution_count": 40,
   "metadata": {},
   "outputs": [
    {
     "data": {
      "text/plain": [
       "<matplotlib.legend.Legend at 0x1a86e68b460>"
      ]
     },
     "execution_count": 40,
     "metadata": {},
     "output_type": "execute_result"
    },
    {
     "data": {
      "image/png": "[encoded data removed]",
      "text/plain": [
       "<Figure size 864x576 with 1 Axes>"
      ]
     },
     "metadata": {},
     "output_type": "display_data"
    }
   ],
   "source": [
    "plt.plot(y, \"k.\", label = \"Power\")\n",
    "plt.plot(y_pred, \"r-\", label = \"Polynomial Regression with estimated Power Output\")\n",
    "plt.title(\"Polynomial Regression\")\n",
    "plt.xlabel(\"Speed\")\n",
    "plt.ylabel(\"Power\")\n",
    "plt.legend()"
   ]
  },
  {
   "cell_type": "markdown",
   "metadata": {},
   "source": [
    "## References"
   ]
  },
  {
   "cell_type": "markdown",
   "metadata": {},
   "source": [
    "[1] Functions to draw linear regression models ; https://seaborn.pydata.org/tutorial/regression.html#functions-to-draw-linear-regression-models\n",
    "\n",
    "[2] Ian McLoughlin; Models : https://github.com/ianmcloughlin/jupyter-teaching-notebooks/blob/master/models.ipynb\n",
    "\n",
    "[3] 4 Automatic Outlier Detection Algorithms in Python : https://machinelearningmastery.com/model-based-outlier-detection-and-removal-in-python/\n",
    "\n",
    "[4] Matplotlib : https://matplotlib.org/3.1.1/api/_as_gen/matplotlib.pyplot.legend.html\n",
    "\n",
    "[5] KDnuggets : https://www.kdnuggets.com/2019/07/data-pre-processing-optimizing-regression-model-performance.html\n",
    "\n",
    "[6] RealPython ; Linear Regression in Python : https://realpython.com/linear-regression-in-python/\n",
    "\n",
    "[7] Statistics By Jim : https://statisticsbyjim.com/regression/choosing-regression-analysis/\n",
    "\n",
    "[8] Wikipedia ; polynomial regression: https://en.wikipedia.org/wiki/Polynomial_regression"
   ]
  },
  {
   "cell_type": "markdown",
   "metadata": {},
   "source": [
    "## End"
   ]
  }
 ],
 "metadata": {
  "kernelspec": {
   "display_name": "Python 3",
   "language": "python",
   "name": "python3"
  },
  "language_info": {
   "codemirror_mode": {
    "name": "ipython",
    "version": 3
   },
   "file_extension": ".py",
   "mimetype": "text/x-python",
   "name": "python",
   "nbconvert_exporter": "python",
   "pygments_lexer": "ipython3",
   "version": "3.8.5"
  }
 },
 "nbformat": 4,
 "nbformat_minor": 4
}
