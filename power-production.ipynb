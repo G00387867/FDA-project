{
 "cells": [
  {
   "cell_type": "markdown",
   "metadata": {},
   "source": [
    "# Project 2020 - Fundamentals of Data Analysis"
   ]
  },
  {
   "cell_type": "markdown",
   "metadata": {},
   "source": [
    "---"
   ]
  },
  {
   "cell_type": "markdown",
   "metadata": {},
   "source": [
    "### Project requirements:\n",
    "\n",
    "Perform and explain simple linear regression using Python on the **powerproduction** dataset.\n",
    "The goal is to;\n",
    "- accurately predict wind turbine power output from wind speed values using the data set as a basis.\n",
    " 1. using simple linear regression on the data set.\n",
    " 2. In that notebook, an explanation of your regression and an analysis of its accuracy.\n",
    "\n",
    "#### Methodology:\n",
    "\n",
    "* Importing the data set\n",
    "* Explore the data set\n",
    "* Perform Analysis\n",
    "\n",
    "\n",
    "To enhance your submission, you might consider comparing simple linear regression to\n",
    "other types of regression on this data set. Rest assured, all the above concepts will be\n",
    "explored in lecture videos and other materials in the coming semester."
   ]
  },
  {
   "cell_type": "code",
   "execution_count": 1,
   "metadata": {},
   "outputs": [],
   "source": [
    "#\n",
    "# %matplotlib notebook\n",
    "\n",
    "%matplotlib inline\n",
    "\n",
    "# importing required packages and libraries\n",
    "import numpy as np\n",
    "rng = np.random.default_rng()\n",
    "import pandas as pd\n",
    "import matplotlib.pyplot as plt\n",
    "import seaborn as sns\n",
    "\n",
    "\n",
    "# Better sized plots.\n",
    "plt.rcParams['figure.figsize'] = (12, 8)\n",
    "# Nicer colours and styles for plots.\n",
    "# plt.style.use(\"ggplot\")\n",
    "plt.style.use(\"fivethirtyeight\")"
   ]
  },
  {
   "cell_type": "code",
   "execution_count": 2,
   "metadata": {},
   "outputs": [
    {
     "data": {
      "text/html": [
       "<div>\n",
       "<style scoped>\n",
       "    .dataframe tbody tr th:only-of-type {\n",
       "        vertical-align: middle;\n",
       "    }\n",
       "\n",
       "    .dataframe tbody tr th {\n",
       "        vertical-align: top;\n",
       "    }\n",
       "\n",
       "    .dataframe thead th {\n",
       "        text-align: right;\n",
       "    }\n",
       "</style>\n",
       "<table border=\"1\" class=\"dataframe\">\n",
       "  <thead>\n",
       "    <tr style=\"text-align: right;\">\n",
       "      <th></th>\n",
       "      <th>speed</th>\n",
       "      <th>power</th>\n",
       "    </tr>\n",
       "  </thead>\n",
       "  <tbody>\n",
       "    <tr>\n",
       "      <th>0</th>\n",
       "      <td>0.000</td>\n",
       "      <td>0.0</td>\n",
       "    </tr>\n",
       "    <tr>\n",
       "      <th>1</th>\n",
       "      <td>0.125</td>\n",
       "      <td>0.0</td>\n",
       "    </tr>\n",
       "    <tr>\n",
       "      <th>2</th>\n",
       "      <td>0.150</td>\n",
       "      <td>0.0</td>\n",
       "    </tr>\n",
       "    <tr>\n",
       "      <th>3</th>\n",
       "      <td>0.225</td>\n",
       "      <td>0.0</td>\n",
       "    </tr>\n",
       "    <tr>\n",
       "      <th>4</th>\n",
       "      <td>0.275</td>\n",
       "      <td>0.0</td>\n",
       "    </tr>\n",
       "    <tr>\n",
       "      <th>...</th>\n",
       "      <td>...</td>\n",
       "      <td>...</td>\n",
       "    </tr>\n",
       "    <tr>\n",
       "      <th>495</th>\n",
       "      <td>24.775</td>\n",
       "      <td>0.0</td>\n",
       "    </tr>\n",
       "    <tr>\n",
       "      <th>496</th>\n",
       "      <td>24.850</td>\n",
       "      <td>0.0</td>\n",
       "    </tr>\n",
       "    <tr>\n",
       "      <th>497</th>\n",
       "      <td>24.875</td>\n",
       "      <td>0.0</td>\n",
       "    </tr>\n",
       "    <tr>\n",
       "      <th>498</th>\n",
       "      <td>24.950</td>\n",
       "      <td>0.0</td>\n",
       "    </tr>\n",
       "    <tr>\n",
       "      <th>499</th>\n",
       "      <td>25.000</td>\n",
       "      <td>0.0</td>\n",
       "    </tr>\n",
       "  </tbody>\n",
       "</table>\n",
       "<p>500 rows × 2 columns</p>\n",
       "</div>"
      ],
      "text/plain": [
       "      speed  power\n",
       "0     0.000    0.0\n",
       "1     0.125    0.0\n",
       "2     0.150    0.0\n",
       "3     0.225    0.0\n",
       "4     0.275    0.0\n",
       "..      ...    ...\n",
       "495  24.775    0.0\n",
       "496  24.850    0.0\n",
       "497  24.875    0.0\n",
       "498  24.950    0.0\n",
       "499  25.000    0.0\n",
       "\n",
       "[500 rows x 2 columns]"
      ]
     },
     "execution_count": 2,
     "metadata": {},
     "output_type": "execute_result"
    }
   ],
   "source": [
    "url = \"https://raw.githubusercontent.com/ianmcloughlin/2020A-machstat-project/master/dataset/powerproduction.csv\"\n",
    "df = pd.read_csv(url, error_bad_lines=False)\n",
    "df"
   ]
  },
  {
   "cell_type": "code",
   "execution_count": 3,
   "metadata": {},
   "outputs": [
    {
     "data": {
      "text/html": [
       "<div>\n",
       "<style scoped>\n",
       "    .dataframe tbody tr th:only-of-type {\n",
       "        vertical-align: middle;\n",
       "    }\n",
       "\n",
       "    .dataframe tbody tr th {\n",
       "        vertical-align: top;\n",
       "    }\n",
       "\n",
       "    .dataframe thead th {\n",
       "        text-align: right;\n",
       "    }\n",
       "</style>\n",
       "<table border=\"1\" class=\"dataframe\">\n",
       "  <thead>\n",
       "    <tr style=\"text-align: right;\">\n",
       "      <th></th>\n",
       "      <th>0</th>\n",
       "      <th>1</th>\n",
       "      <th>2</th>\n",
       "      <th>3</th>\n",
       "      <th>4</th>\n",
       "      <th>5</th>\n",
       "      <th>6</th>\n",
       "      <th>7</th>\n",
       "      <th>8</th>\n",
       "      <th>9</th>\n",
       "      <th>...</th>\n",
       "      <th>490</th>\n",
       "      <th>491</th>\n",
       "      <th>492</th>\n",
       "      <th>493</th>\n",
       "      <th>494</th>\n",
       "      <th>495</th>\n",
       "      <th>496</th>\n",
       "      <th>497</th>\n",
       "      <th>498</th>\n",
       "      <th>499</th>\n",
       "    </tr>\n",
       "  </thead>\n",
       "  <tbody>\n",
       "    <tr>\n",
       "      <th>speed</th>\n",
       "      <td>0.0</td>\n",
       "      <td>0.125</td>\n",
       "      <td>0.15</td>\n",
       "      <td>0.225</td>\n",
       "      <td>0.275</td>\n",
       "      <td>0.325</td>\n",
       "      <td>0.400</td>\n",
       "      <td>0.450</td>\n",
       "      <td>0.501</td>\n",
       "      <td>0.526</td>\n",
       "      <td>...</td>\n",
       "      <td>24.499</td>\n",
       "      <td>24.525</td>\n",
       "      <td>24.575</td>\n",
       "      <td>24.65</td>\n",
       "      <td>24.75</td>\n",
       "      <td>24.775</td>\n",
       "      <td>24.85</td>\n",
       "      <td>24.875</td>\n",
       "      <td>24.95</td>\n",
       "      <td>25.0</td>\n",
       "    </tr>\n",
       "    <tr>\n",
       "      <th>power</th>\n",
       "      <td>0.0</td>\n",
       "      <td>0.000</td>\n",
       "      <td>0.00</td>\n",
       "      <td>0.000</td>\n",
       "      <td>0.000</td>\n",
       "      <td>4.331</td>\n",
       "      <td>5.186</td>\n",
       "      <td>3.826</td>\n",
       "      <td>1.048</td>\n",
       "      <td>5.553</td>\n",
       "      <td>...</td>\n",
       "      <td>0.000</td>\n",
       "      <td>0.000</td>\n",
       "      <td>0.000</td>\n",
       "      <td>0.00</td>\n",
       "      <td>0.00</td>\n",
       "      <td>0.000</td>\n",
       "      <td>0.00</td>\n",
       "      <td>0.000</td>\n",
       "      <td>0.00</td>\n",
       "      <td>0.0</td>\n",
       "    </tr>\n",
       "  </tbody>\n",
       "</table>\n",
       "<p>2 rows × 500 columns</p>\n",
       "</div>"
      ],
      "text/plain": [
       "       0      1     2      3      4      5      6      7      8      9    ...  \\\n",
       "speed  0.0  0.125  0.15  0.225  0.275  0.325  0.400  0.450  0.501  0.526  ...   \n",
       "power  0.0  0.000  0.00  0.000  0.000  4.331  5.186  3.826  1.048  5.553  ...   \n",
       "\n",
       "          490     491     492    493    494     495    496     497    498  \\\n",
       "speed  24.499  24.525  24.575  24.65  24.75  24.775  24.85  24.875  24.95   \n",
       "power   0.000   0.000   0.000   0.00   0.00   0.000   0.00   0.000   0.00   \n",
       "\n",
       "        499  \n",
       "speed  25.0  \n",
       "power   0.0  \n",
       "\n",
       "[2 rows x 500 columns]"
      ]
     },
     "execution_count": 3,
     "metadata": {},
     "output_type": "execute_result"
    }
   ],
   "source": [
    "# transpose the data set\n",
    "df.transpose()"
   ]
  },
  {
   "cell_type": "code",
   "execution_count": 4,
   "metadata": {},
   "outputs": [
    {
     "data": {
      "text/html": [
       "<div>\n",
       "<style scoped>\n",
       "    .dataframe tbody tr th:only-of-type {\n",
       "        vertical-align: middle;\n",
       "    }\n",
       "\n",
       "    .dataframe tbody tr th {\n",
       "        vertical-align: top;\n",
       "    }\n",
       "\n",
       "    .dataframe thead th {\n",
       "        text-align: right;\n",
       "    }\n",
       "</style>\n",
       "<table border=\"1\" class=\"dataframe\">\n",
       "  <thead>\n",
       "    <tr style=\"text-align: right;\">\n",
       "      <th></th>\n",
       "      <th>speed</th>\n",
       "      <th>power</th>\n",
       "    </tr>\n",
       "  </thead>\n",
       "  <tbody>\n",
       "    <tr>\n",
       "      <th>count</th>\n",
       "      <td>500.000000</td>\n",
       "      <td>500.000000</td>\n",
       "    </tr>\n",
       "    <tr>\n",
       "      <th>mean</th>\n",
       "      <td>12.590398</td>\n",
       "      <td>48.014584</td>\n",
       "    </tr>\n",
       "    <tr>\n",
       "      <th>std</th>\n",
       "      <td>7.224991</td>\n",
       "      <td>41.614572</td>\n",
       "    </tr>\n",
       "    <tr>\n",
       "      <th>min</th>\n",
       "      <td>0.000000</td>\n",
       "      <td>0.000000</td>\n",
       "    </tr>\n",
       "    <tr>\n",
       "      <th>25%</th>\n",
       "      <td>6.324750</td>\n",
       "      <td>5.288000</td>\n",
       "    </tr>\n",
       "    <tr>\n",
       "      <th>50%</th>\n",
       "      <td>12.550500</td>\n",
       "      <td>41.645500</td>\n",
       "    </tr>\n",
       "    <tr>\n",
       "      <th>75%</th>\n",
       "      <td>18.775250</td>\n",
       "      <td>93.537000</td>\n",
       "    </tr>\n",
       "    <tr>\n",
       "      <th>max</th>\n",
       "      <td>25.000000</td>\n",
       "      <td>113.556000</td>\n",
       "    </tr>\n",
       "  </tbody>\n",
       "</table>\n",
       "</div>"
      ],
      "text/plain": [
       "            speed       power\n",
       "count  500.000000  500.000000\n",
       "mean    12.590398   48.014584\n",
       "std      7.224991   41.614572\n",
       "min      0.000000    0.000000\n",
       "25%      6.324750    5.288000\n",
       "50%     12.550500   41.645500\n",
       "75%     18.775250   93.537000\n",
       "max     25.000000  113.556000"
      ]
     },
     "execution_count": 4,
     "metadata": {},
     "output_type": "execute_result"
    }
   ],
   "source": [
    "# validating the data set\n",
    "df.describe()"
   ]
  },
  {
   "cell_type": "code",
   "execution_count": 5,
   "metadata": {},
   "outputs": [
    {
     "data": {
      "text/plain": [
       "<AxesSubplot:xlabel='speed', ylabel='power'>"
      ]
     },
     "execution_count": 5,
     "metadata": {},
     "output_type": "execute_result"
    },
    {
     "data": {
      "image/png": "[encoded data removed]",
      "text/plain": [
       "<Figure size 864x576 with 1 Axes>"
      ]
     },
     "metadata": {},
     "output_type": "display_data"
    }
   ],
   "source": [
    "sns.scatterplot(data = df, x = \"speed\", y = \"power\", label = \"Exploring the Data Set's shape\")"
   ]
  },
  {
   "cell_type": "markdown",
   "metadata": {},
   "source": [
    "<br>\n",
    "\n",
    "---\n",
    "## Simple Linear Regression using _`Numpy`_\n",
    "---"
   ]
  },
  {
   "cell_type": "code",
   "execution_count": 6,
   "metadata": {},
   "outputs": [
    {
     "data": {
      "text/plain": [
       "array([  4.91759567, -13.89990263])"
      ]
     },
     "execution_count": 6,
     "metadata": {},
     "output_type": "execute_result"
    }
   ],
   "source": [
    "# Do regression on the speed and power arrays using numpy.\n",
    "np.polyfit(df[\"speed\"], df[\"power\"], 1)"
   ]
  },
  {
   "cell_type": "code",
   "execution_count": 7,
   "metadata": {},
   "outputs": [
    {
     "data": {
      "text/plain": [
       "(4.917595665404671, -13.89990263051961)"
      ]
     },
     "execution_count": 7,
     "metadata": {},
     "output_type": "execute_result"
    }
   ],
   "source": [
    "speed = df[\"speed\"]\n",
    "power = df[\"power\"]\n",
    "\n",
    "# Create variables with those values.\n",
    "m, p = np.polyfit(speed, power, 1)\n",
    "\n",
    "# Have a look at m and r.\n",
    "m, p"
   ]
  },
  {
   "cell_type": "code",
   "execution_count": 8,
   "metadata": {},
   "outputs": [
    {
     "data": {
      "text/plain": [
       "[<matplotlib.lines.Line2D at 0x25006698fa0>]"
      ]
     },
     "execution_count": 8,
     "metadata": {},
     "output_type": "execute_result"
    },
    {
     "data": {
      "image/png": "[encoded data removed]",
      "text/plain": [
       "<Figure size 864x576 with 1 Axes>"
      ]
     },
     "metadata": {},
     "output_type": "display_data"
    }
   ],
   "source": [
    "# Plot speed and power and the regression line in red.\n",
    "plt.plot(speed, power, \"k.\")\n",
    "plt.plot(speed, m * speed + p, \"r-\" )"
   ]
  },
  {
   "cell_type": "markdown",
   "metadata": {},
   "source": [
    "### Calculating the best `m` and `r` ourselves"
   ]
  },
  {
   "cell_type": "code",
   "execution_count": 9,
   "metadata": {},
   "outputs": [
    {
     "data": {
      "text/plain": [
       "(4.917595665404668, -13.899902630519541)"
      ]
     },
     "execution_count": 9,
     "metadata": {},
     "output_type": "execute_result"
    }
   ],
   "source": [
    "# Calculate mean speed and mean power.\n",
    "speed_avg = np.mean(speed)\n",
    "power_avg = np.mean(power)\n",
    "\n",
    "# Subtract means from speed and power.\n",
    "speed_zero = speed - speed_avg\n",
    "power_zero = power - power_avg\n",
    "\n",
    "# Dot product of mean-adjusted speed and power divided by dot product of mean adjusted speed with itself.\n",
    "m = np.sum(speed_zero * power_zero) / np.sum(speed_zero * speed_zero)\n",
    "\n",
    "# Subtract m times average x from average y.\n",
    "p = power_avg - m * speed_avg\n",
    "\n",
    "# Let's have a look - same values as above.\n",
    "m, p"
   ]
  },
  {
   "cell_type": "code",
   "execution_count": 10,
   "metadata": {},
   "outputs": [
    {
     "data": {
      "text/plain": [
       "<AxesSubplot:xlabel='speed', ylabel='power'>"
      ]
     },
     "execution_count": 10,
     "metadata": {},
     "output_type": "execute_result"
    },
    {
     "data": {
      "image/png": "[encoded data removed]",
      "text/plain": [
       "<Figure size 864x576 with 1 Axes>"
      ]
     },
     "metadata": {},
     "output_type": "display_data"
    }
   ],
   "source": [
    "# simple linear regression by using seaborn [1]\n",
    "sns.regplot(x = \"speed\", y = \"power\", data = df, x_estimator=np.mean, color = \"r\")\n"
   ]
  },
  {
   "cell_type": "markdown",
   "metadata": {},
   "source": [
    "<br>\n",
    "\n",
    "---\n",
    "\n",
    "## Simple Linear Regression Using  _`Scikit-learn`_\n",
    "---"
   ]
  },
  {
   "cell_type": "code",
   "execution_count": 11,
   "metadata": {},
   "outputs": [],
   "source": [
    "def f(x, p):\n",
    "    return p[0] + x * p[1]"
   ]
  },
  {
   "cell_type": "markdown",
   "metadata": {},
   "source": [
    "#### Train\n",
    "---"
   ]
  },
  {
   "cell_type": "code",
   "execution_count": 13,
   "metadata": {},
   "outputs": [
    {
     "data": {
      "text/plain": [
       "LinearRegression()"
      ]
     },
     "execution_count": 13,
     "metadata": {},
     "output_type": "execute_result"
    }
   ],
   "source": [
    "# using linear_model : https://scikit-learn.org/stable/modules/linear_model.html \n",
    "# https://github.com/ianmcloughlin/jupyter-teaching-notebooks/blob/master/models.ipynb \n",
    "# pda : Notebook: Models\n",
    "\n",
    "import sklearn.linear_model as lim\n",
    "from sklearn.linear_model import LinearRegression\n",
    "\n",
    "speed = df[\"speed\"].to_numpy()\n",
    "power = df[\"power\"].to_numpy()\n",
    "\n",
    "speed = speed.reshape(-1, 1)\n",
    "\n",
    "# Create a linear regression model instance.\n",
    "m = lim.LinearRegression()\n",
    "\n",
    "# Ask the model to fit the data.\n",
    "m.fit(speed, power)"
   ]
  },
  {
   "cell_type": "code",
   "execution_count": 14,
   "metadata": {},
   "outputs": [
    {
     "data": {
      "text/plain": [
       "-13.899902630519641"
      ]
     },
     "execution_count": 14,
     "metadata": {},
     "output_type": "execute_result"
    }
   ],
   "source": [
    "# Here's our intercept.\n",
    "m.intercept_"
   ]
  },
  {
   "cell_type": "code",
   "execution_count": 15,
   "metadata": {},
   "outputs": [
    {
     "data": {
      "text/plain": [
       "array([4.91759567])"
      ]
     },
     "execution_count": 15,
     "metadata": {},
     "output_type": "execute_result"
    }
   ],
   "source": [
    "# The coefficients.\n",
    "m.coef_"
   ]
  },
  {
   "cell_type": "code",
   "execution_count": 16,
   "metadata": {},
   "outputs": [
    {
     "data": {
      "text/plain": [
       "0.7289360258564072"
      ]
     },
     "execution_count": 16,
     "metadata": {},
     "output_type": "execute_result"
    }
   ],
   "source": [
    "# See how good the fit is.\n",
    "m.score(speed, power)"
   ]
  },
  {
   "cell_type": "code",
   "execution_count": 17,
   "metadata": {},
   "outputs": [
    {
     "data": {
      "text/plain": [
       "[-13.899902630519641, 4.91759566540467]"
      ]
     },
     "execution_count": 17,
     "metadata": {},
     "output_type": "execute_result"
    }
   ],
   "source": [
    "# training model\n",
    "p = [m.intercept_, m.coef_[0]]\n",
    "p"
   ]
  },
  {
   "cell_type": "markdown",
   "metadata": {},
   "source": [
    "#### predict\n",
    "---"
   ]
  },
  {
   "cell_type": "code",
   "execution_count": 18,
   "metadata": {},
   "outputs": [],
   "source": [
    "# linear regression function\n",
    "\n",
    "def predict(speed):\n",
    "    \"\"\"\n",
    "    predicting the power using speed as input\n",
    "    \n",
    "    \"\"\"\n",
    "    return f(speed, p)"
   ]
  },
  {
   "cell_type": "code",
   "execution_count": 19,
   "metadata": {},
   "outputs": [],
   "source": [
    "# f(x, p)"
   ]
  },
  {
   "cell_type": "code",
   "execution_count": 20,
   "metadata": {},
   "outputs": [],
   "source": [
    "power = predict(speed)"
   ]
  },
  {
   "cell_type": "code",
   "execution_count": 21,
   "metadata": {},
   "outputs": [
    {
     "data": {
      "text/plain": [
       "<matplotlib.legend.Legend at 0x250090a46d0>"
      ]
     },
     "execution_count": 21,
     "metadata": {},
     "output_type": "execute_result"
    },
    {
     "data": {
      "image/png": "[encoded data removed]",
      "text/plain": [
       "<Figure size 864x576 with 1 Axes>"
      ]
     },
     "metadata": {},
     "output_type": "display_data"
    }
   ],
   "source": [
    "plt.plot(power, \"r-\", label = \"Linear Regression with Power Output\")\n",
    "plt.title(\"Power Output\")\n",
    "plt.xlabel(\"speed\")\n",
    "plt.ylabel(\"power\")\n",
    "plt.legend()"
   ]
  },
  {
   "cell_type": "markdown",
   "metadata": {},
   "source": [
    "<br>\n",
    "\n",
    "### Advanced _`Scikit-Learn`_"
   ]
  },
  {
   "cell_type": "code",
   "execution_count": 22,
   "metadata": {},
   "outputs": [],
   "source": [
    "# importing scikit-learn libraries\n",
    "from sklearn.model_selection import train_test_split\n",
    "from sklearn.linear_model import LinearRegression\n",
    "from sklearn.ensemble import IsolationForest\n",
    "from sklearn.metrics import mean_absolute_error"
   ]
  },
  {
   "cell_type": "code",
   "execution_count": 23,
   "metadata": {},
   "outputs": [
    {
     "name": "stdout",
     "output_type": "stream",
     "text": [
      "(500, 1) (500,)\n"
     ]
    }
   ],
   "source": [
    "# retrieve the array\n",
    "data = df.values\n",
    "# split into input and output elements\n",
    "speed, power = data[:, :-1], data[:, -1]\n",
    "# summarize the shape of the dataset\n",
    "print(speed.shape, power.shape)"
   ]
  },
  {
   "cell_type": "markdown",
   "metadata": {},
   "source": [
    "*We can see from the above, the data set was loaded correctly and there are **500 rows** of data with **1 input variable** and **a single target variable**.*\n"
   ]
  },
  {
   "cell_type": "code",
   "execution_count": 24,
   "metadata": {},
   "outputs": [
    {
     "name": "stdout",
     "output_type": "stream",
     "text": [
      "(335, 1) (165, 1) (335,) (165,)\n"
     ]
    }
   ],
   "source": [
    "# split into train and test sets\n",
    "speed_train, speed_test, power_train, power_test = train_test_split(speed, power, test_size=0.33, random_state=1)\n",
    "# summarize the shape of the train and test sets\n",
    "print(speed_train.shape, speed_test.shape, power_train.shape, power_test.shape)"
   ]
  },
  {
   "cell_type": "markdown",
   "metadata": {},
   "source": [
    "_The data set is split into **train** and **test** sets, with **335** rows used for **model training** and **165** for **model evaluation**._"
   ]
  },
  {
   "cell_type": "markdown",
   "metadata": {},
   "source": [
    "### _Automatic Outlier Detection_\n",
    "\n",
    "The scikit-learn library provides a number of built-in automatic methods for identifying outliers in data. Each method will be defined, then fit on the training dataset. The fit model will then predict which examples in the training dataset are outliers and which are not (so-called inliers). The outliers will then be removed from the training dataset, then the model will be fit on the remaining examples and evaluated on the entire test dataset.\n",
    "\n",
    "It would be invalid to fit the outlier detection method on the entire training dataset as this would result in data leakage. That is, the model would have access to data (or information about the data) in the test set not used to train the model. This may result in an optimistic estimate of model performance.\n",
    "\n",
    "One approach might be to return a “None” indicating that the model is unable to make a prediction on those outlier cases. This might be an interesting extension to explore that may be appropriate for your project [3].\n"
   ]
  },
  {
   "cell_type": "markdown",
   "metadata": {},
   "source": [
    "#### _Isolation Forest_\n",
    "\n",
    "Isolation Forest, or iForest for short, is a tree-based anomaly detection algorithm.\n",
    "\n",
    "It is based on modeling the normal data in such a way as to isolate anomalies that are both few in number and different in the feature space. The scikit-learn library provides an implementation of Isolation Forest in the IsolationForest class.\n",
    "\n",
    "The most important hyperparameter in the model is the “contamination” argument, which is used to help estimate the number of outliers in the dataset. This is a value between `0.0` and `0.5` and by default is set to `0.1`\n",
    "\n"
   ]
  },
  {
   "cell_type": "code",
   "execution_count": 25,
   "metadata": {},
   "outputs": [
    {
     "name": "stdout",
     "output_type": "stream",
     "text": [
      "(301, 1) (165, 1) (301,) (165,)\n"
     ]
    }
   ],
   "source": [
    "# identify outliers in the training dataset\n",
    "iso = IsolationForest(contamination=0.1)\n",
    "power_hat = iso.fit_predict(speed_train)\n",
    "\n",
    "# select all rows that are not outliers\n",
    "mask = power_hat != -1\n",
    "speed_train, power_train = speed_train[mask, :], power_train[mask]\n",
    "\n",
    "# summarize the shape of the updated train and test sets\n",
    "print(speed_train.shape, speed_test.shape, power_train.shape, power_test.shape)"
   ]
  },
  {
   "cell_type": "markdown",
   "metadata": {},
   "source": [
    "### _Baseline Model Performance_"
   ]
  },
  {
   "cell_type": "markdown",
   "metadata": {},
   "source": [
    "It is a regression predictive modeling problem, meaning that we will be predicting a numeric value. All input variables are also numeric.\n",
    "In this case, we will fit a linear regression algorithm and evaluate model performance by training the model on the test dataset and making a prediction on the test data and evaluate the predictions using the mean absolute error (MAE).\n",
    "\n"
   ]
  },
  {
   "cell_type": "markdown",
   "metadata": {},
   "source": [
    "#### Fit"
   ]
  },
  {
   "cell_type": "code",
   "execution_count": 26,
   "metadata": {},
   "outputs": [
    {
     "data": {
      "text/plain": [
       "LinearRegression()"
      ]
     },
     "execution_count": 26,
     "metadata": {},
     "output_type": "execute_result"
    }
   ],
   "source": [
    "# Fit the model\n",
    "m = LinearRegression()\n",
    "m.fit(speed_train, power_train)"
   ]
  },
  {
   "cell_type": "markdown",
   "metadata": {},
   "source": [
    "#### Evaluate"
   ]
  },
  {
   "cell_type": "code",
   "execution_count": 27,
   "metadata": {},
   "outputs": [
    {
     "name": "stdout",
     "output_type": "stream",
     "text": [
      " Mean Absolute Error(MAE): 15.452\n"
     ]
    }
   ],
   "source": [
    "# Evaluate the model\n",
    "power_hat = m.predict(speed_test)\n",
    "\n",
    "# Evaluate prediction\n",
    "mae = mean_absolute_error(power_test, power_hat)\n",
    "print(\" Mean Absolute Error(MAE): %.3f\" % mae)"
   ]
  },
  {
   "cell_type": "markdown",
   "metadata": {},
   "source": [
    "The model achieved a **MAE** of **15.860**. This is a baseline in performance to which we can compare different outlier identification and removal procedure. After implementing **Isolation Forest** method, the **MAE** was **15.441**."
   ]
  },
  {
   "cell_type": "code",
   "execution_count": 28,
   "metadata": {},
   "outputs": [
    {
     "data": {
      "text/plain": [
       "-24.11906352639597"
      ]
     },
     "execution_count": 28,
     "metadata": {},
     "output_type": "execute_result"
    }
   ],
   "source": [
    "# Here's our intercept.\n",
    "m.intercept_"
   ]
  },
  {
   "cell_type": "code",
   "execution_count": 29,
   "metadata": {
    "scrolled": true
   },
   "outputs": [
    {
     "data": {
      "text/plain": [
       "array([5.85759595])"
      ]
     },
     "execution_count": 29,
     "metadata": {},
     "output_type": "execute_result"
    }
   ],
   "source": [
    "# The coefficients.\n",
    "m.coef_"
   ]
  },
  {
   "cell_type": "code",
   "execution_count": 30,
   "metadata": {},
   "outputs": [
    {
     "data": {
      "text/plain": [
       "0.7007911735498117"
      ]
     },
     "execution_count": 30,
     "metadata": {},
     "output_type": "execute_result"
    }
   ],
   "source": [
    "# See how good the fit is.\n",
    "m.score(speed, power)"
   ]
  },
  {
   "cell_type": "code",
   "execution_count": 31,
   "metadata": {},
   "outputs": [
    {
     "data": {
      "text/plain": [
       "[-24.11906352639597, 5.857595951588858]"
      ]
     },
     "execution_count": 31,
     "metadata": {},
     "output_type": "execute_result"
    }
   ],
   "source": [
    "# training model\n",
    "p = [m.intercept_, m.coef_[0]]\n",
    "p"
   ]
  },
  {
   "cell_type": "markdown",
   "metadata": {},
   "source": [
    "#### Predict"
   ]
  },
  {
   "cell_type": "code",
   "execution_count": 32,
   "metadata": {},
   "outputs": [],
   "source": [
    "# linear regression function\n",
    "\n",
    "def predict(speed):\n",
    "    \"\"\"\n",
    "    predicting the power using speed as input\n",
    "    \n",
    "    \"\"\"\n",
    "    return f(speed, p)"
   ]
  },
  {
   "cell_type": "code",
   "execution_count": 33,
   "metadata": {},
   "outputs": [],
   "source": [
    "# f(x, p)\n",
    "power = predict(speed)"
   ]
  },
  {
   "cell_type": "code",
   "execution_count": 34,
   "metadata": {},
   "outputs": [
    {
     "data": {
      "text/plain": [
       "<matplotlib.legend.Legend at 0x250094ed8e0>"
      ]
     },
     "execution_count": 34,
     "metadata": {},
     "output_type": "execute_result"
    },
    {
     "data": {
      "image/png": "[encoded data removed]",
      "text/plain": [
       "<Figure size 864x576 with 1 Axes>"
      ]
     },
     "metadata": {},
     "output_type": "display_data"
    }
   ],
   "source": [
    "plt.plot(power, \"r-\", label = \"Linear Regression with Optimised Power Output\")\n",
    "plt.title(\"Optimised Power Output\")\n",
    "plt.xlabel(\"speed\")\n",
    "plt.ylabel(\"power\")\n",
    "plt.legend()"
   ]
  },
  {
   "cell_type": "markdown",
   "metadata": {},
   "source": [
    "<br>\n",
    "\n",
    "---\n",
    "\n",
    "##  Simple Linear Regression Using _`Statsmodels`_\n",
    "\n",
    "---"
   ]
  },
  {
   "cell_type": "code",
   "execution_count": 35,
   "metadata": {
    "scrolled": true
   },
   "outputs": [
    {
     "name": "stdout",
     "output_type": "stream",
     "text": [
      "                            OLS Regression Results                            \n",
      "==============================================================================\n",
      "Dep. Variable:                      y   R-squared:                       1.000\n",
      "Model:                            OLS   Adj. R-squared:                  1.000\n",
      "Method:                 Least Squares   F-statistic:                 2.110e+33\n",
      "Date:                Sun, 03 Jan 2021   Prob (F-statistic):               0.00\n",
      "Time:                        16:32:06   Log-Likelihood:                 15049.\n",
      "No. Observations:                 500   AIC:                        -3.009e+04\n",
      "Df Residuals:                     498   BIC:                        -3.008e+04\n",
      "Df Model:                           1                                         \n",
      "Covariance Type:            nonrobust                                         \n",
      "==============================================================================\n",
      "                 coef    std err          t      P>|t|      [0.025      0.975]\n",
      "------------------------------------------------------------------------------\n",
      "const        -24.1191   1.85e-15   -1.3e+16      0.000     -24.119     -24.119\n",
      "x1             5.8576   1.28e-16   4.59e+16      0.000       5.858       5.858\n",
      "==============================================================================\n",
      "Omnibus:                       45.860   Durbin-Watson:                   0.210\n",
      "Prob(Omnibus):                  0.000   Jarque-Bera (JB):               56.603\n",
      "Skew:                           0.820   Prob(JB):                     5.12e-13\n",
      "Kurtosis:                       3.160   Cond. No.                         29.3\n",
      "==============================================================================\n",
      "\n",
      "Notes:\n",
      "[1] Standard Errors assume that the covariance matrix of the errors is correctly specified.\n"
     ]
    }
   ],
   "source": [
    "\n",
    "# Using statsmodels.\n",
    "import statsmodels.api as sm\n",
    "\n",
    "# Tell statmodels to include an intercept.\n",
    "speedwithp = sm.add_constant(speed)\n",
    "\n",
    "# Create a model.\n",
    "msm = sm.OLS(power, speedwithp)\n",
    "# Fit the data.\n",
    "psm = msm.fit()\n",
    "# Print a summary.\n",
    "print(psm.summary())"
   ]
  },
  {
   "cell_type": "markdown",
   "metadata": {},
   "source": [
    "### Polynomial Regression With scikit-learn"
   ]
  },
  {
   "cell_type": "code",
   "execution_count": 36,
   "metadata": {},
   "outputs": [],
   "source": [
    "import numpy as np\n",
    "from sklearn.linear_model import LinearRegression\n",
    "from sklearn.preprocessing import PolynomialFeatures"
   ]
  },
  {
   "cell_type": "code",
   "execution_count": 37,
   "metadata": {},
   "outputs": [],
   "source": [
    "x = speed.reshape(-1, 1)\n",
    "y = power"
   ]
  },
  {
   "cell_type": "code",
   "execution_count": 38,
   "metadata": {},
   "outputs": [],
   "source": [
    "transformer = PolynomialFeatures(degree=2, include_bias=False)"
   ]
  },
  {
   "cell_type": "code",
   "execution_count": 39,
   "metadata": {},
   "outputs": [
    {
     "data": {
      "text/plain": [
       "PolynomialFeatures(include_bias=False)"
      ]
     },
     "execution_count": 39,
     "metadata": {},
     "output_type": "execute_result"
    }
   ],
   "source": [
    "transformer.fit(x)"
   ]
  },
  {
   "cell_type": "code",
   "execution_count": 51,
   "metadata": {},
   "outputs": [],
   "source": [
    "x_ = transformer.transform(x)"
   ]
  },
  {
   "cell_type": "code",
   "execution_count": 41,
   "metadata": {},
   "outputs": [],
   "source": [
    "x_ = PolynomialFeatures(degree=2, include_bias=False).fit_transform(x)"
   ]
  },
  {
   "cell_type": "code",
   "execution_count": 42,
   "metadata": {},
   "outputs": [],
   "source": [
    "model = LinearRegression().fit(x_, y)"
   ]
  },
  {
   "cell_type": "code",
   "execution_count": 43,
   "metadata": {},
   "outputs": [
    {
     "name": "stdout",
     "output_type": "stream",
     "text": [
      "coefficient of determination: 1.0\n",
      "intercept: [-24.11906353]\n",
      "coefficients: [[ 5.85759595e+00 -1.21986864e-18]]\n"
     ]
    }
   ],
   "source": [
    "r_sq = model.score(x_, y)\n",
    "print('coefficient of determination:', r_sq)\n",
    "\n",
    "print('intercept:', model.intercept_)\n",
    "\n",
    "print('coefficients:', model.coef_)\n"
   ]
  },
  {
   "cell_type": "code",
   "execution_count": 44,
   "metadata": {},
   "outputs": [],
   "source": [
    "x_ = PolynomialFeatures(degree=2, include_bias=True).fit_transform(x)"
   ]
  },
  {
   "cell_type": "code",
   "execution_count": 45,
   "metadata": {},
   "outputs": [
    {
     "name": "stdout",
     "output_type": "stream",
     "text": [
      "[[1.00000000e+00 0.00000000e+00 0.00000000e+00]\n",
      " [1.00000000e+00 1.25000000e-01 1.56250000e-02]\n",
      " [1.00000000e+00 1.50000000e-01 2.25000000e-02]\n",
      " ...\n",
      " [1.00000000e+00 2.48750000e+01 6.18765625e+02]\n",
      " [1.00000000e+00 2.49500000e+01 6.22502500e+02]\n",
      " [1.00000000e+00 2.50000000e+01 6.25000000e+02]]\n"
     ]
    }
   ],
   "source": [
    "print(x_)"
   ]
  },
  {
   "cell_type": "code",
   "execution_count": 46,
   "metadata": {},
   "outputs": [],
   "source": [
    "model = LinearRegression(fit_intercept=False).fit(x_, y)"
   ]
  },
  {
   "cell_type": "code",
   "execution_count": 47,
   "metadata": {},
   "outputs": [
    {
     "name": "stdout",
     "output_type": "stream",
     "text": [
      "coefficient of determination: 1.0\n",
      "intercept: 0.0\n",
      "coefficients: [[-24.11906353   5.85759595   0.        ]]\n"
     ]
    }
   ],
   "source": [
    "r_sq = model.score(x_, y)\n",
    "print('coefficient of determination:', r_sq)\n",
    "\n",
    "print('intercept:', model.intercept_)\n",
    "\n",
    "print('coefficients:', model.coef_)\n"
   ]
  },
  {
   "cell_type": "code",
   "execution_count": 49,
   "metadata": {},
   "outputs": [
    {
     "name": "stdout",
     "output_type": "stream",
     "text": [
      "predicted response: [[-24.11906353]\n",
      " [-23.38686403]\n",
      " [-23.24042413]\n",
      " [-22.80110444]\n",
      " [-22.50822464]\n",
      " [-22.21534484]\n",
      " [-21.77602515]\n",
      " [-21.48314535]\n",
      " [-21.18440795]\n",
      " [-21.03796806]\n",
      " [-20.89152816]\n",
      " [-20.74508826]\n",
      " [-20.45220846]\n",
      " [-20.15932866]\n",
      " [-20.01288876]\n",
      " [-19.86644887]\n",
      " [-19.72000897]\n",
      " [-19.42712917]\n",
      " [-19.28068927]\n",
      " [-19.13424937]\n",
      " [-18.69492968]\n",
      " [-18.54848978]\n",
      " [-18.40204988]\n",
      " [-18.25560998]\n",
      " [-18.10917008]\n",
      " [-17.96273018]\n",
      " [-17.81629028]\n",
      " [-17.66985038]\n",
      " [-17.37697059]\n",
      " [-16.79121099]\n",
      " [-16.64477109]\n",
      " [-16.49833119]\n",
      " [-15.9125716 ]\n",
      " [-15.7661317 ]\n",
      " [-15.32095441]\n",
      " [-15.02807461]\n",
      " [-14.44231501]\n",
      " [-14.29587512]\n",
      " [-14.14943522]\n",
      " [-13.41723572]\n",
      " [-13.12435593]\n",
      " [-12.97791603]\n",
      " [-12.24571653]\n",
      " [-11.95283673]\n",
      " [-11.80639684]\n",
      " [-11.36707714]\n",
      " [-11.07419734]\n",
      " [-10.92775744]\n",
      " [-10.04911805]\n",
      " [ -9.60979835]\n",
      " [ -9.16462106]\n",
      " [ -9.01818116]\n",
      " [ -8.28598167]\n",
      " [ -7.55378218]\n",
      " [ -7.40734228]\n",
      " [ -6.82158268]\n",
      " [ -6.52870288]\n",
      " [ -6.38226298]\n",
      " [ -6.23582309]\n",
      " [ -6.08938319]\n",
      " [ -5.79650339]\n",
      " [ -5.35718369]\n",
      " [ -4.3321044 ]\n",
      " [ -4.1856645 ]\n",
      " [ -4.0392246 ]\n",
      " [ -3.59404731]\n",
      " [ -3.44760741]\n",
      " [ -3.15472762]\n",
      " [ -3.00828772]\n",
      " [ -2.86184782]\n",
      " [ -2.56896802]\n",
      " [ -2.42252812]\n",
      " [ -2.27608822]\n",
      " [ -1.98320843]\n",
      " [ -1.83676853]\n",
      " [ -1.39744883]\n",
      " [ -1.25100893]\n",
      " [ -1.10456903]\n",
      " [ -0.95812913]\n",
      " [ -0.81168924]\n",
      " [  0.35982996]\n",
      " [  1.09202945]\n",
      " [  1.23846935]\n",
      " [  1.82422894]\n",
      " [  2.41584613]\n",
      " [  2.56228603]\n",
      " [  2.85516583]\n",
      " [  3.58736532]\n",
      " [  3.88024512]\n",
      " [  4.46600472]\n",
      " [  4.61244462]\n",
      " [  4.75888451]\n",
      " [  4.90532441]\n",
      " [  5.05176431]\n",
      " [  5.34464411]\n",
      " [  5.63752391]\n",
      " [  5.93040371]\n",
      " [  6.2232835 ]\n",
      " [  6.3697234 ]\n",
      " [  6.6626032 ]\n",
      " [  6.8090431 ]\n",
      " [  6.955483  ]\n",
      " [  7.68768249]\n",
      " [  7.83412239]\n",
      " [  8.13285978]\n",
      " [  8.42573958]\n",
      " [  8.86505928]\n",
      " [  9.15793907]\n",
      " [  9.30437897]\n",
      " [  9.45081887]\n",
      " [  9.74369867]\n",
      " [  9.89013857]\n",
      " [ 10.03657847]\n",
      " [ 10.47589816]\n",
      " [ 10.62233806]\n",
      " [ 10.76877796]\n",
      " [ 10.91521786]\n",
      " [ 11.06165776]\n",
      " [ 11.20809766]\n",
      " [ 11.50097746]\n",
      " [ 11.64741735]\n",
      " [ 11.79385725]\n",
      " [ 11.94029715]\n",
      " [ 12.08673705]\n",
      " [ 12.37961685]\n",
      " [ 13.11181634]\n",
      " [ 13.40469614]\n",
      " [ 13.69757594]\n",
      " [ 13.84401584]\n",
      " [ 14.58207293]\n",
      " [ 15.02139262]\n",
      " [ 15.31427242]\n",
      " [ 15.46071232]\n",
      " [ 15.60715222]\n",
      " [ 15.90003201]\n",
      " [ 16.04647191]\n",
      " [ 16.63223151]\n",
      " [ 16.77867141]\n",
      " [ 17.2179911 ]\n",
      " [ 17.364431  ]\n",
      " [ 17.5108709 ]\n",
      " [ 17.8037507 ]\n",
      " [ 17.9501906 ]\n",
      " [ 18.0966305 ]\n",
      " [ 18.2430704 ]\n",
      " [ 18.38951029]\n",
      " [ 18.68239009]\n",
      " [ 19.12170979]\n",
      " [ 19.26814969]\n",
      " [ 19.41458959]\n",
      " [ 19.85976688]\n",
      " [ 20.15264668]\n",
      " [ 20.44552647]\n",
      " [ 20.59196637]\n",
      " [ 20.88484617]\n",
      " [ 21.03128607]\n",
      " [ 21.17772597]\n",
      " [ 21.61704566]\n",
      " [ 21.76348556]\n",
      " [ 21.90992546]\n",
      " [ 22.05636536]\n",
      " [ 22.20280526]\n",
      " [ 22.34924516]\n",
      " [ 22.93500475]\n",
      " [ 23.22788455]\n",
      " [ 23.52076435]\n",
      " [ 23.81364415]\n",
      " [ 23.96008404]\n",
      " [ 24.54584364]\n",
      " [ 25.13160323]\n",
      " [ 25.42448303]\n",
      " [ 25.86966032]\n",
      " [ 26.45541992]\n",
      " [ 26.60185982]\n",
      " [ 26.74829972]\n",
      " [ 27.18761941]\n",
      " [ 27.62693911]\n",
      " [ 27.77337901]\n",
      " [ 27.91981891]\n",
      " [ 28.3591386 ]\n",
      " [ 29.82353759]\n",
      " [ 30.11641739]\n",
      " [ 30.40929719]\n",
      " [ 31.14149668]\n",
      " [ 31.73311387]\n",
      " [ 31.87955377]\n",
      " [ 32.17243357]\n",
      " [ 32.90463306]\n",
      " [ 33.34395276]\n",
      " [ 33.49039266]\n",
      " [ 33.63683256]\n",
      " [ 33.78327246]\n",
      " [ 34.07615225]\n",
      " [ 34.22259215]\n",
      " [ 34.36903205]\n",
      " [ 34.66191185]\n",
      " [ 34.95479165]\n",
      " [ 35.10123154]\n",
      " [ 35.24767144]\n",
      " [ 35.39411134]\n",
      " [ 35.54055124]\n",
      " [ 35.68699114]\n",
      " [ 35.83343104]\n",
      " [ 35.97987094]\n",
      " [ 36.12631084]\n",
      " [ 36.56563053]\n",
      " [ 36.71207043]\n",
      " [ 37.29783003]\n",
      " [ 37.45012752]\n",
      " [ 37.74300732]\n",
      " [ 38.32876691]\n",
      " [ 38.62164671]\n",
      " [ 38.76808661]\n",
      " [ 38.91452651]\n",
      " [ 39.646726  ]\n",
      " [ 40.0860457 ]\n",
      " [ 40.2324856 ]\n",
      " [ 40.3789255 ]\n",
      " [ 40.5253654 ]\n",
      " [ 40.96468509]\n",
      " [ 41.25756489]\n",
      " [ 41.55044469]\n",
      " [ 41.98976438]\n",
      " [ 42.13620428]\n",
      " [ 42.28264418]\n",
      " [ 42.42908408]\n",
      " [ 42.57552398]\n",
      " [ 43.89934066]\n",
      " [ 44.19222046]\n",
      " [ 44.33866036]\n",
      " [ 44.63154016]\n",
      " [ 44.92441995]\n",
      " [ 45.07085985]\n",
      " [ 45.36373965]\n",
      " [ 45.80305935]\n",
      " [ 45.94949925]\n",
      " [ 46.09593915]\n",
      " [ 46.38881894]\n",
      " [ 47.12101844]\n",
      " [ 47.26745834]\n",
      " [ 47.41389823]\n",
      " [ 47.70677803]\n",
      " [ 47.85321793]\n",
      " [ 48.14609773]\n",
      " [ 48.29253763]\n",
      " [ 48.43897753]\n",
      " [ 48.58541742]\n",
      " [ 48.87829722]\n",
      " [ 49.02473712]\n",
      " [ 49.32347451]\n",
      " [ 49.46991441]\n",
      " [ 49.61635431]\n",
      " [ 49.76279421]\n",
      " [ 50.05567401]\n",
      " [ 50.34855381]\n",
      " [ 50.4949937 ]\n",
      " [ 50.7878735 ]\n",
      " [ 51.2271932 ]\n",
      " [ 51.3736331 ]\n",
      " [ 51.81295279]\n",
      " [ 51.95939269]\n",
      " [ 52.25227249]\n",
      " [ 53.57023158]\n",
      " [ 53.86311138]\n",
      " [ 54.00955128]\n",
      " [ 54.30243107]\n",
      " [ 54.59531087]\n",
      " [ 55.18692806]\n",
      " [ 55.33336796]\n",
      " [ 56.21200735]\n",
      " [ 56.35844725]\n",
      " [ 57.52996644]\n",
      " [ 57.67640634]\n",
      " [ 57.82284624]\n",
      " [ 57.96928614]\n",
      " [ 58.11572604]\n",
      " [ 58.70148563]\n",
      " [ 58.99436543]\n",
      " [ 59.43368513]\n",
      " [ 59.58012503]\n",
      " [ 59.87300482]\n",
      " [ 60.01944472]\n",
      " [ 60.16588462]\n",
      " [ 60.75164422]\n",
      " [ 61.05038161]\n",
      " [ 61.34326141]\n",
      " [ 61.48970131]\n",
      " [ 61.6361412 ]\n",
      " [ 62.0754609 ]\n",
      " [ 62.2219008 ]\n",
      " [ 62.3683407 ]\n",
      " [ 62.8076604 ]\n",
      " [ 62.95410029]\n",
      " [ 64.12561948]\n",
      " [ 64.41849928]\n",
      " [ 64.56493918]\n",
      " [ 64.71137908]\n",
      " [ 64.85781898]\n",
      " [ 65.00425888]\n",
      " [ 65.15069878]\n",
      " [ 65.29713867]\n",
      " [ 65.59001847]\n",
      " [ 65.73645837]\n",
      " [ 66.17577807]\n",
      " [ 66.46865786]\n",
      " [ 66.61509776]\n",
      " [ 66.91383516]\n",
      " [ 67.20671495]\n",
      " [ 67.64603465]\n",
      " [ 67.93891445]\n",
      " [ 68.08535435]\n",
      " [ 68.23179425]\n",
      " [ 68.52467404]\n",
      " [ 69.11043364]\n",
      " [ 69.54975334]\n",
      " [ 69.84263313]\n",
      " [ 69.98907303]\n",
      " [ 70.13551293]\n",
      " [ 70.72127253]\n",
      " [ 71.01415232]\n",
      " [ 71.30703212]\n",
      " [ 71.74635182]\n",
      " [ 72.18567151]\n",
      " [ 72.33211141]\n",
      " [ 72.9237286 ]\n",
      " [ 73.0701685 ]\n",
      " [ 73.2166084 ]\n",
      " [ 73.5094882 ]\n",
      " [ 73.6559281 ]\n",
      " [ 73.802368  ]\n",
      " [ 74.24168769]\n",
      " [ 74.53456749]\n",
      " [ 74.97388719]\n",
      " [ 75.12032709]\n",
      " [ 75.26676698]\n",
      " [ 75.41320688]\n",
      " [ 75.55964678]\n",
      " [ 75.85252658]\n",
      " [ 76.14540638]\n",
      " [ 76.29184628]\n",
      " [ 76.43828617]\n",
      " [ 77.02404577]\n",
      " [ 77.31692557]\n",
      " [ 77.46336547]\n",
      " [ 77.60980536]\n",
      " [ 77.90268516]\n",
      " [ 78.04912506]\n",
      " [ 78.19556496]\n",
      " [ 78.34200486]\n",
      " [ 78.49430235]\n",
      " [ 78.64074225]\n",
      " [ 78.78718215]\n",
      " [ 78.93362205]\n",
      " [ 79.08006195]\n",
      " [ 79.22650185]\n",
      " [ 80.10514124]\n",
      " [ 80.25158114]\n",
      " [ 80.39802104]\n",
      " [ 80.69090084]\n",
      " [ 81.56954023]\n",
      " [ 81.71598013]\n",
      " [ 81.86242003]\n",
      " [ 82.59461952]\n",
      " [ 82.88749932]\n",
      " [ 83.18037911]\n",
      " [ 83.47325891]\n",
      " [ 83.61969881]\n",
      " [ 83.76613871]\n",
      " [ 84.3577559 ]\n",
      " [ 84.5041958 ]\n",
      " [ 84.7970756 ]\n",
      " [ 84.9435155 ]\n",
      " [ 85.38283519]\n",
      " [ 85.67571499]\n",
      " [ 85.82215489]\n",
      " [ 85.96859479]\n",
      " [ 86.26147459]\n",
      " [ 86.40791448]\n",
      " [ 86.70079428]\n",
      " [ 86.84723418]\n",
      " [ 87.14011398]\n",
      " [ 87.43299378]\n",
      " [ 87.57943367]\n",
      " [ 87.72587357]\n",
      " [ 88.16519327]\n",
      " [ 88.31163317]\n",
      " [ 88.75095286]\n",
      " [ 89.77603216]\n",
      " [ 90.36764935]\n",
      " [ 90.51408925]\n",
      " [ 90.66052914]\n",
      " [ 90.80696904]\n",
      " [ 90.95340894]\n",
      " [ 91.09984884]\n",
      " [ 91.24628874]\n",
      " [ 91.39272864]\n",
      " [ 91.68560844]\n",
      " [ 91.83204834]\n",
      " [ 91.97848823]\n",
      " [ 92.12492813]\n",
      " [ 92.41780793]\n",
      " [ 92.71068773]\n",
      " [ 92.85712763]\n",
      " [ 93.29644732]\n",
      " [ 93.58932712]\n",
      " [ 93.73576702]\n",
      " [ 93.88220692]\n",
      " [ 94.02864682]\n",
      " [ 94.32152661]\n",
      " [ 94.61440641]\n",
      " [ 94.76084631]\n",
      " [ 94.90728621]\n",
      " [ 95.05372611]\n",
      " [ 95.7859256 ]\n",
      " [ 96.084663  ]\n",
      " [ 96.37754279]\n",
      " [ 96.81686249]\n",
      " [ 96.96330239]\n",
      " [ 97.54906198]\n",
      " [ 97.69550188]\n",
      " [ 98.13482158]\n",
      " [ 99.15990087]\n",
      " [ 99.30634077]\n",
      " [ 99.59922057]\n",
      " [100.77073976]\n",
      " [101.21005945]\n",
      " [101.35649935]\n",
      " [101.50293925]\n",
      " [101.64937915]\n",
      " [101.79581905]\n",
      " [102.53387614]\n",
      " [102.82675594]\n",
      " [103.11963573]\n",
      " [103.70539533]\n",
      " [103.85183523]\n",
      " [104.29115492]\n",
      " [104.87691452]\n",
      " [105.16979432]\n",
      " [105.60911401]\n",
      " [106.04843371]\n",
      " [106.19487361]\n",
      " [106.34131351]\n",
      " [106.48775341]\n",
      " [106.6341933 ]\n",
      " [106.7806332 ]\n",
      " [107.2199529 ]\n",
      " [107.5128327 ]\n",
      " [107.6592726 ]\n",
      " [107.81157009]\n",
      " [108.39732969]\n",
      " [108.69020948]\n",
      " [108.98308928]\n",
      " [109.27596908]\n",
      " [109.42240898]\n",
      " [109.56884888]\n",
      " [109.86172867]\n",
      " [110.59392817]\n",
      " [110.74036807]\n",
      " [111.32612766]\n",
      " [111.91188726]\n",
      " [112.05832716]\n",
      " [112.20476705]\n",
      " [112.35120695]\n",
      " [112.49764685]\n",
      " [112.64408675]\n",
      " [112.79052665]\n",
      " [113.08340645]\n",
      " [113.37628625]\n",
      " [113.52272614]\n",
      " [113.82146354]\n",
      " [113.96790344]\n",
      " [114.11434334]\n",
      " [114.26078323]\n",
      " [114.70010293]\n",
      " [114.84654283]\n",
      " [115.28586253]\n",
      " [115.43230242]\n",
      " [115.57874232]\n",
      " [115.87162212]\n",
      " [116.16450192]\n",
      " [116.31094182]\n",
      " [116.60382161]\n",
      " [116.75026151]\n",
      " [117.48246101]\n",
      " [117.62890091]\n",
      " [117.9217807 ]\n",
      " [118.2146605 ]\n",
      " [118.5075403 ]\n",
      " [118.6539802 ]\n",
      " [118.8004201 ]\n",
      " [119.38617969]\n",
      " [119.53847719]\n",
      " [119.83135698]\n",
      " [120.27067668]\n",
      " [120.85643628]\n",
      " [121.00287617]\n",
      " [121.44219587]\n",
      " [121.58863577]\n",
      " [122.02795547]\n",
      " [122.32083526]]\n"
     ]
    }
   ],
   "source": [
    "y_pred = model.predict(x_)\n",
    "print('predicted response:', y_pred)\n",
    "\n"
   ]
  },
  {
   "cell_type": "markdown",
   "metadata": {},
   "source": [
    "## References"
   ]
  },
  {
   "cell_type": "markdown",
   "metadata": {},
   "source": [
    "[1] Functions to draw linear regression models ; https://seaborn.pydata.org/tutorial/regression.html#functions-to-draw-linear-regression-models\n",
    "\n",
    "[2] Ian McLoughlin; Models : https://github.com/ianmcloughlin/jupyter-teaching-notebooks/blob/master/models.ipynb\n",
    "\n",
    "[3] 4 Automatic Outlier Detection Algorithms in Python : https://machinelearningmastery.com/model-based-outlier-detection-and-removal-in-python/\n",
    "\n",
    "[4] Matplotlib : https://matplotlib.org/3.1.1/api/_as_gen/matplotlib.pyplot.legend.html\n",
    "\n",
    "[5] KDnuggets : https://www.kdnuggets.com/2019/07/data-pre-processing-optimizing-regression-model-performance.html\n",
    "\n",
    "[6] https://realpython.com/linear-regression-in-python/\n",
    "\n",
    "[]"
   ]
  },
  {
   "cell_type": "markdown",
   "metadata": {},
   "source": [
    "## End"
   ]
  }
 ],
 "metadata": {
  "kernelspec": {
   "display_name": "Python 3",
   "language": "python",
   "name": "python3"
  },
  "language_info": {
   "codemirror_mode": {
    "name": "ipython",
    "version": 3
   },
   "file_extension": ".py",
   "mimetype": "text/x-python",
   "name": "python",
   "nbconvert_exporter": "python",
   "pygments_lexer": "ipython3",
   "version": "3.8.5"
  }
 },
 "nbformat": 4,
 "nbformat_minor": 4
}
